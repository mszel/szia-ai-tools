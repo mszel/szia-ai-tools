{
 "cells": [
  {
   "cell_type": "markdown",
   "id": "38e67a86",
   "metadata": {},
   "source": [
    "# Examples of Using the TaskSolver Component\n",
    "\n",
    "The `TaskSolver` class provides a reusable and parameterizable interface for running prompt-based tasks with LLMs. It wraps an `LLMPromptProcessor` and a template prompt (defined as a list of `Message` objects with placeholders), allowing dynamic substitution of parameters or message content at runtime.\n",
    "\n",
    "It supports various input types - including text, image URLs, audio files, and more - depending on the capabilities of the underlying LLM. Once initialized with a task definition (e.g., a translation instruction), you can call `.solve()` asynchronously (and `solve_batch()`) with either a dictionary of values - that contains the value of the replacements in the message - or a complete `Message` to generate a response.\n",
    "\n",
    "Use cases include:\n",
    "- Translating text rows in a DataFrame\n",
    "- Describing images via image URLs or uploads\n",
    "- Transcribing audio inputs\n",
    "- Structuring unstructured texts\n",
    "\n",
    "`TaskSolver` is a building block of agent-like LLM applications."
   ]
  },
  {
   "cell_type": "code",
   "execution_count": 2,
   "id": "50140200",
   "metadata": {},
   "outputs": [],
   "source": [
    "# Auto reload imports\n",
    "%reload_ext autoreload\n",
    "%autoreload 2\n",
    "\n",
    "# Visualization\n",
    "%matplotlib inline\n",
    "\n",
    "# Imports\n",
    "import pandas as pd\n",
    "import os"
   ]
  },
  {
   "cell_type": "markdown",
   "id": "ce355418",
   "metadata": {},
   "source": [
    "## Translating a DataFrame column to English\n",
    "To initialize the `TaskSolver`, you can provide a list of `Message` objects—typically including one or more system messages and optionally a user message. If no user message is provided at initialization, you can supply it later when calling the `solve()` method.\n",
    "\n",
    "Prompts can be defined as a list of dictionaries, where each dictionary corresponds to a message. Placeholders (e.g., `{sentence}`, `{destination_language}`) can be included in the content and will be automatically replaced during prompt formatting. For example, `{sentence}` should match a column name in your DataFrame if you’re applying the solver row-wise."
   ]
  },
  {
   "cell_type": "code",
   "execution_count": 4,
   "id": "11e6914e",
   "metadata": {},
   "outputs": [
    {
     "data": {
      "text/html": [
       "<div>\n",
       "<style scoped>\n",
       "    .dataframe tbody tr th:only-of-type {\n",
       "        vertical-align: middle;\n",
       "    }\n",
       "\n",
       "    .dataframe tbody tr th {\n",
       "        vertical-align: top;\n",
       "    }\n",
       "\n",
       "    .dataframe thead th {\n",
       "        text-align: right;\n",
       "    }\n",
       "</style>\n",
       "<table border=\"1\" class=\"dataframe\">\n",
       "  <thead>\n",
       "    <tr style=\"text-align: right;\">\n",
       "      <th></th>\n",
       "      <th>sentence</th>\n",
       "    </tr>\n",
       "  </thead>\n",
       "  <tbody>\n",
       "    <tr>\n",
       "      <th>0</th>\n",
       "      <td>A mélytanulás a gépi tanulás egyik ága, amely ...</td>\n",
       "    </tr>\n",
       "    <tr>\n",
       "      <th>1</th>\n",
       "      <td>深度学习是机器学习的一个分支，它使用神经网络。</td>\n",
       "    </tr>\n",
       "  </tbody>\n",
       "</table>\n",
       "</div>"
      ],
      "text/plain": [
       "                                            sentence\n",
       "0  A mélytanulás a gépi tanulás egyik ága, amely ...\n",
       "1                            深度学习是机器学习的一个分支，它使用神经网络。"
      ]
     },
     "execution_count": 4,
     "metadata": {},
     "output_type": "execute_result"
    }
   ],
   "source": [
    "example_df = pd.DataFrame({'sentence': [\n",
    "    \"A mélytanulás a gépi tanulás egyik ága, amely a neurális hálózatokat használja.\",\n",
    "    \"深度学习是机器学习的一个分支，它使用神经网络。\",\n",
    "    \"L'apprentissage profond est une branche de l'apprentissage automatique qui utilise des réseaux de neurones.\",\n",
    "]})\n",
    "\n",
    "example_df.head(2)"
   ]
  },
  {
   "cell_type": "code",
   "execution_count": 5,
   "id": "654bff2a",
   "metadata": {},
   "outputs": [],
   "source": [
    "from sziaaitls.components.llm_agents import TaskSolver\n",
    "from sziaaitls.core.llms import LLMPromptProcessor, Message\n",
    "\n",
    "prompt_list = [\n",
    "    {'role': 'system', 'content': 'You are a robot that translates sentences to {destination_language}.'},\n",
    "    {'role': 'user', 'content': 'Translate the following sentence: {sentence}'}\n",
    "]\n",
    "formatted_prompt_list = [Message.from_dict(p).format(destination_language=\"English\") for p in prompt_list]\n",
    "\n",
    "task_solver = TaskSolver(\n",
    "    llm=LLMPromptProcessor(\n",
    "        api_key=os.environ.get(\"OPENAI_API_KEY\"),\n",
    "        model=\"gpt-4o-mini\",\n",
    "        rate_limit=350,\n",
    "        period=60,\n",
    "    ),\n",
    "    base_messages=formatted_prompt_list,\n",
    ")"
   ]
  },
  {
   "cell_type": "code",
   "execution_count": 6,
   "id": "31445e04",
   "metadata": {},
   "outputs": [
    {
     "data": {
      "text/html": [
       "<div>\n",
       "<style scoped>\n",
       "    .dataframe tbody tr th:only-of-type {\n",
       "        vertical-align: middle;\n",
       "    }\n",
       "\n",
       "    .dataframe tbody tr th {\n",
       "        vertical-align: top;\n",
       "    }\n",
       "\n",
       "    .dataframe thead th {\n",
       "        text-align: right;\n",
       "    }\n",
       "</style>\n",
       "<table border=\"1\" class=\"dataframe\">\n",
       "  <thead>\n",
       "    <tr style=\"text-align: right;\">\n",
       "      <th></th>\n",
       "      <th>sentence</th>\n",
       "      <th>translation</th>\n",
       "    </tr>\n",
       "  </thead>\n",
       "  <tbody>\n",
       "    <tr>\n",
       "      <th>0</th>\n",
       "      <td>A mélytanulás a gépi tanulás egyik ága, amely ...</td>\n",
       "      <td>Deep learning is a branch of machine learning ...</td>\n",
       "    </tr>\n",
       "    <tr>\n",
       "      <th>1</th>\n",
       "      <td>深度学习是机器学习的一个分支，它使用神经网络。</td>\n",
       "      <td>Deep learning is a branch of machine learning ...</td>\n",
       "    </tr>\n",
       "    <tr>\n",
       "      <th>2</th>\n",
       "      <td>L'apprentissage profond est une branche de l'a...</td>\n",
       "      <td>Deep learning is a branch of machine learning ...</td>\n",
       "    </tr>\n",
       "  </tbody>\n",
       "</table>\n",
       "</div>"
      ],
      "text/plain": [
       "                                            sentence  \\\n",
       "0  A mélytanulás a gépi tanulás egyik ága, amely ...   \n",
       "1                            深度学习是机器学习的一个分支，它使用神经网络。   \n",
       "2  L'apprentissage profond est une branche de l'a...   \n",
       "\n",
       "                                         translation  \n",
       "0  Deep learning is a branch of machine learning ...  \n",
       "1  Deep learning is a branch of machine learning ...  \n",
       "2  Deep learning is a branch of machine learning ...  "
      ]
     },
     "execution_count": 6,
     "metadata": {},
     "output_type": "execute_result"
    }
   ],
   "source": [
    "translations = await task_solver.solve_batch(\n",
    "    input_list=example_df[['sentence']].to_dict(orient='records'),\n",
    ")\n",
    "\n",
    "example_df['translation'] = [t.content for t in translations]\n",
    "example_df"
   ]
  },
  {
   "cell_type": "markdown",
   "id": "264a2110",
   "metadata": {},
   "source": [
    "## Address Cleaning"
   ]
  },
  {
   "cell_type": "code",
   "execution_count": null,
   "id": "55afbd90",
   "metadata": {},
   "outputs": [],
   "source": []
  },
  {
   "cell_type": "code",
   "execution_count": null,
   "id": "56da626e",
   "metadata": {},
   "outputs": [],
   "source": []
  },
  {
   "cell_type": "markdown",
   "id": "9e3353e7",
   "metadata": {},
   "source": [
    "**F.I.N.**"
   ]
  }
 ],
 "metadata": {
  "kernelspec": {
   "display_name": ".venv",
   "language": "python",
   "name": "python3"
  },
  "language_info": {
   "codemirror_mode": {
    "name": "ipython",
    "version": 3
   },
   "file_extension": ".py",
   "mimetype": "text/x-python",
   "name": "python",
   "nbconvert_exporter": "python",
   "pygments_lexer": "ipython3",
   "version": "3.12.9"
  }
 },
 "nbformat": 4,
 "nbformat_minor": 5
}
